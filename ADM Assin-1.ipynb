{
  "cells": [
    {
      "cell_type": "markdown",
      "metadata": {
        "id": "view-in-github",
        "colab_type": "text"
      },
      "source": [
        "<a href=\"https://colab.research.google.com/github/SkHaneef5626/ADM/blob/main/ADM%20Assin-1.ipynb\" target=\"_parent\"><img src=\"https://colab.research.google.com/assets/colab-badge.svg\" alt=\"Open In Colab\"/></a>"
      ]
    },
    {
      "cell_type": "code",
      "execution_count": 16,
      "metadata": {
        "id": "zwFnJsE6vjf8",
        "outputId": "7895c12b-b957-4863-f7ba-ef5a3a2f40ad",
        "colab": {
          "base_uri": "https://localhost:8080/"
        }
      },
      "outputs": [
        {
          "output_type": "stream",
          "name": "stdout",
          "text": [
            "     Pregnancies  Glucose  BloodPressure  SkinThickness  Insulin   BMI  \\\n",
            "0              6      148             72             35        0  33.6   \n",
            "1              1       85             66             29        0  26.6   \n",
            "2              8      183             64              0        0  23.3   \n",
            "3              1       89             66             23       94  28.1   \n",
            "4              0      137             40             35      168  43.1   \n",
            "..           ...      ...            ...            ...      ...   ...   \n",
            "763           10      101             76             48      180  32.9   \n",
            "764            2      122             70             27        0  36.8   \n",
            "765            5      121             72             23      112  26.2   \n",
            "766            1      126             60              0        0  30.1   \n",
            "767            1       93             70             31        0  30.4   \n",
            "\n",
            "     DiabetesPedigreeFunction  Age  Outcome  \n",
            "0                       0.627   50        1  \n",
            "1                       0.351   31        0  \n",
            "2                       0.672   32        1  \n",
            "3                       0.167   21        0  \n",
            "4                       2.288   33        1  \n",
            "..                        ...  ...      ...  \n",
            "763                     0.171   63        0  \n",
            "764                     0.340   27        0  \n",
            "765                     0.245   30        0  \n",
            "766                     0.349   47        1  \n",
            "767                     0.315   23        0  \n",
            "\n",
            "[768 rows x 9 columns]\n"
          ]
        }
      ],
      "source": [
        "import pandas as pd\n",
        "df=pd.read_csv('/content/diabetes.csv')\n",
        "print(df)\n",
        "\n"
      ]
    },
    {
      "cell_type": "code",
      "source": [
        "columns_with_zeros = ['Glucose', 'BloodPressure', 'SkinThickness']\n",
        "data[columns_with_zeros] = data[columns_with_zeros].replace(0, pd.NA)\n"
      ],
      "metadata": {
        "id": "wL7hfHtDokMr"
      },
      "execution_count": 20,
      "outputs": []
    },
    {
      "cell_type": "code",
      "source": [
        "# Impute missing values\n",
        "imputation_method = 'mean'\n",
        "for col in data.columns:\n",
        "    if data[col].isna().sum() > 0:\n",
        "        if imputation_method == 'mean':\n",
        "            data[col].fillna(data[col].mean(), inplace=True)\n",
        "        elif imputation_method == 'median':\n",
        "            data[col].fillna(data[col].median(), inplace=True)\n",
        "        elif imputation_method == 'mode':\n",
        "            data[col].fillna(data[col].mode()[0], inplace=True)"
      ],
      "metadata": {
        "id": "abT9aq4gpbzD"
      },
      "execution_count": 23,
      "outputs": []
    },
    {
      "cell_type": "code",
      "source": [
        "print(\"\\nDataset After Handling Missing Values:\")\n",
        "print(data.head())"
      ],
      "metadata": {
        "id": "9UCF8XvZp5J3",
        "outputId": "7eb8a398-a7fe-4320-f2ea-1b579cdee452",
        "colab": {
          "base_uri": "https://localhost:8080/"
        }
      },
      "execution_count": 24,
      "outputs": [
        {
          "output_type": "stream",
          "name": "stdout",
          "text": [
            "\n",
            "Dataset After Handling Missing Values:\n",
            "   Pregnancies  Glucose  BloodPressure  SkinThickness  Insulin   BMI  \\\n",
            "0            6    148.0           72.0       35.00000        0  33.6   \n",
            "1            1     85.0           66.0       29.00000        0  26.6   \n",
            "2            8    183.0           64.0       29.15342        0  23.3   \n",
            "3            1     89.0           66.0       23.00000       94  28.1   \n",
            "4            0    137.0           40.0       35.00000      168  43.1   \n",
            "\n",
            "   DiabetesPedigreeFunction  Age  Outcome  \n",
            "0                     0.627   50        1  \n",
            "1                     0.351   31        0  \n",
            "2                     0.672   32        1  \n",
            "3                     0.167   21        0  \n",
            "4                     2.288   33        1  \n"
          ]
        }
      ]
    },
    {
      "cell_type": "code",
      "source": [
        "scaling_method = 'min-max'\n",
        "if scaling_method == 'min-max':\n",
        "    scaler = MinMaxScaler()\n",
        "elif scaling_method == 'standard':\n",
        "    scaler = StandardScaler()"
      ],
      "metadata": {
        "id": "2XT9rnUztdko"
      },
      "execution_count": 25,
      "outputs": []
    },
    {
      "cell_type": "code",
      "source": [
        "target_column = 'Outcome'\n",
        "features = data.drop(columns=[target_column]) if target_column in data.columns else data\n",
        "scaled_features = pd.DataFrame(scaler.fit_transform(features), columns=features.columns)"
      ],
      "metadata": {
        "id": "UpB8aW0itmcu"
      },
      "execution_count": 26,
      "outputs": []
    },
    {
      "cell_type": "code",
      "source": [
        "if target_column in data.columns:\n",
        "    scaled_features[target_column] = data[target_column]"
      ],
      "metadata": {
        "id": "-Uy6O5aXtwut"
      },
      "execution_count": 27,
      "outputs": []
    },
    {
      "cell_type": "code",
      "source": [
        "print(\"\\nProcessed Dataset After Scaling:\")\n",
        "print(scaled_features.head())"
      ],
      "metadata": {
        "id": "OcYYr_Dit1Ik",
        "outputId": "a05c67ef-6055-47e1-ed06-9665c081b015",
        "colab": {
          "base_uri": "https://localhost:8080/"
        }
      },
      "execution_count": 28,
      "outputs": [
        {
          "output_type": "stream",
          "name": "stdout",
          "text": [
            "\n",
            "Processed Dataset After Scaling:\n",
            "   Pregnancies   Glucose  BloodPressure  SkinThickness   Insulin       BMI  \\\n",
            "0     0.352941  0.670968       0.489796       0.304348  0.000000  0.500745   \n",
            "1     0.058824  0.264516       0.428571       0.239130  0.000000  0.396423   \n",
            "2     0.470588  0.896774       0.408163       0.240798  0.000000  0.347243   \n",
            "3     0.058824  0.290323       0.428571       0.173913  0.111111  0.418778   \n",
            "4     0.000000  0.600000       0.163265       0.304348  0.198582  0.642325   \n",
            "\n",
            "   DiabetesPedigreeFunction       Age  Outcome  \n",
            "0                  0.234415  0.483333        1  \n",
            "1                  0.116567  0.166667        0  \n",
            "2                  0.253629  0.183333        1  \n",
            "3                  0.038002  0.000000        0  \n",
            "4                  0.943638  0.200000        1  \n"
          ]
        }
      ]
    }
  ],
  "metadata": {
    "colab": {
      "name": "Welcome to Colaboratory",
      "provenance": [],
      "include_colab_link": true
    },
    "kernelspec": {
      "display_name": "Python 3",
      "name": "python3"
    }
  },
  "nbformat": 4,
  "nbformat_minor": 0
}